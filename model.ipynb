{
  "cells": [
    {
      "cell_type": "markdown",
      "source": [
        "# Mount GDrive and install dependencies"
      ],
      "metadata": {
        "id": "nVW2SwMj69U0"
      }
    },
    {
      "cell_type": "code",
      "execution_count": null,
      "metadata": {
        "colab": {
          "base_uri": "https://localhost:8080/"
        },
        "id": "BVlvNevZo1Oh",
        "outputId": "77914c62-cad4-4c6a-b969-17282316196f"
      },
      "outputs": [
        {
          "output_type": "stream",
          "name": "stdout",
          "text": [
            "Mounted at /content/drive\n"
          ]
        }
      ],
      "source": [
        "from google.colab import drive\n",
        "drive.mount('/content/drive')"
      ]
    },
    {
      "cell_type": "code",
      "execution_count": null,
      "metadata": {
        "colab": {
          "base_uri": "https://localhost:8080/"
        },
        "id": "oeyJJX4rpNd2",
        "outputId": "dff59d6e-c541-42a6-dd87-0aa3112f77a9"
      },
      "outputs": [
        {
          "output_type": "stream",
          "name": "stdout",
          "text": [
            "\u001b[K     |████████████████████████████████| 1.1 MB 31.4 MB/s \n",
            "\u001b[K     |████████████████████████████████| 175 kB 69.2 MB/s \n",
            "\u001b[K     |████████████████████████████████| 83 kB 2.6 MB/s \n",
            "\u001b[K     |████████████████████████████████| 287 kB 78.1 MB/s \n",
            "\u001b[K     |████████████████████████████████| 106 kB 76.0 MB/s \n",
            "\u001b[K     |████████████████████████████████| 53 kB 1.6 MB/s \n",
            "\u001b[K     |████████████████████████████████| 45 kB 3.6 MB/s \n",
            "\u001b[?25h  Building wheel for emoji (setup.py) ... \u001b[?25l\u001b[?25hdone\n"
          ]
        }
      ],
      "source": [
        "!pip install tensorflow_addons contractions emoji ekphrasis --quiet"
      ]
    },
    {
      "cell_type": "markdown",
      "source": [
        "Load dependencies required"
      ],
      "metadata": {
        "id": "lSx8ZrIGACAU"
      }
    },
    {
      "cell_type": "code",
      "execution_count": null,
      "metadata": {
        "id": "KAhvriwdqhHS"
      },
      "outputs": [],
      "source": [
        "import tensorflow as tf\n",
        "import keras\n",
        "\n",
        "from keras import Model, Sequential\n",
        "from keras.layers import Embedding, TextVectorization, Input, LSTM, Bidirectional, Dropout, Dense, SpatialDropout1D, Attention, Conv1D, MaxPooling1D, Add, Flatten, Reshape, GRU\n",
        "import keras.backend as K\n",
        "from keras.losses import Loss\n",
        "from keras.callbacks import EarlyStopping, ReduceLROnPlateau, ModelCheckpoint\n",
        "from keras.models import load_model\n",
        "from keras.initializers import Constant\n",
        "from keras.regularizers import l2\n",
        "from keras.metrics import Mean\n",
        "\n",
        "from tensorflow.keras.losses import SparseCategoricalCrossentropy, Reduction\n",
        "from tensorflow.keras.utils import to_categorical\n",
        "from tensorflow.keras.optimizers import Adam\n",
        "\n",
        "import tensorflow_addons as tfa\n",
        "\n",
        "import pandas as pd\n",
        "import matplotlib.pyplot as plt\n",
        "from sklearn.metrics import classification_report, f1_score\n",
        "import numpy as np\n",
        "import re\n",
        "from dataclasses import dataclass\n",
        "\n",
        "import contractions, emoji\n",
        "\n",
        "from ekphrasis.classes.preprocessor import TextPreProcessor\n",
        "from ekphrasis.classes.tokenizer import SocialTokenizer\n",
        "from ekphrasis.dicts.emoticons import emoticons"
      ]
    },
    {
      "cell_type": "code",
      "source": [
        "pd.set_option('display.max_colwidth', None)"
      ],
      "metadata": {
        "id": "axTQtzfZvWAX"
      },
      "execution_count": null,
      "outputs": []
    },
    {
      "cell_type": "markdown",
      "metadata": {
        "id": "udaTEvLVvT0F"
      },
      "source": [
        "# Emotion detection\n",
        "\n",
        "The assignment is an NLP task for emotion detection. In particular, given a text message, the model has to predict the most appropriate emotion among the ones available. \n",
        "\n",
        "## Key aspects\n",
        "\n",
        "### Preprocessing\n",
        "\n",
        "For the purpose of the task, and in general for NLP problems, some preprocessing of the text is required to transform texts in a different way and handle them properly in the neural network, for example by lowering the case, removing elongated words and so on.\n",
        "\n",
        "### Tokenization\n",
        "\n",
        "Afterwards, the input of the model must be a numerical one, but since texts are strings they need to be transformed to integers. For this reason, the input is firstly tokenized and then an numerical value is associated.\n",
        "\n",
        "### Model\n",
        "\n",
        "There are different choices to model NLP problems: CNN, RNN and Transformers. Design choices will be better discussed in the following sections"
      ]
    },
    {
      "cell_type": "markdown",
      "source": [
        "## Dataset\n",
        "\n",
        "The dataset contains entries of messages posted maybe in social networks, where for each of them there is an emotion associated, describing the intended sentiment of the text. In this case, classes available are joy, neutral, surprise, anger, sadness, disgust, fear.\n",
        "\n",
        "The entire dataset has 54263 entries and is given splitten in three parts:\n",
        "- Training: 43410 entries (80%)\n",
        "- Validation: 5426 entries (10%)\n",
        "- Testing: 5427 entries (10%)"
      ],
      "metadata": {
        "id": "IqcF5qcny_3h"
      }
    },
    {
      "cell_type": "markdown",
      "source": [
        "### Zipped dataset file is moved to current working directory"
      ],
      "metadata": {
        "id": "XO1g-sXM67RE"
      }
    },
    {
      "cell_type": "code",
      "execution_count": null,
      "metadata": {
        "id": "UTH68ahUqRGL"
      },
      "outputs": [],
      "source": [
        "!cp /content/drive/MyDrive/DLExam/data.zip /content"
      ]
    },
    {
      "cell_type": "code",
      "execution_count": null,
      "metadata": {
        "colab": {
          "base_uri": "https://localhost:8080/"
        },
        "id": "uq-GhFN4zsB_",
        "outputId": "d13c8480-bb0f-4bda-b278-d1db3bb7d144"
      },
      "outputs": [
        {
          "output_type": "stream",
          "name": "stdout",
          "text": [
            "mkdir: cannot create directory ‘dataset’: File exists\n",
            "Archive:  data.zip\n",
            "replace dataset/test_ekmann.csv? [y]es, [n]o, [A]ll, [N]one, [r]ename: N\n"
          ]
        }
      ],
      "source": [
        "!mkdir dataset\n",
        "!unzip data.zip -d dataset"
      ]
    },
    {
      "cell_type": "markdown",
      "metadata": {
        "id": "ZMJMJv39q2_A"
      },
      "source": [
        "### Datasets read as pandas Dataframes"
      ]
    },
    {
      "cell_type": "code",
      "source": [
        "pd.set_option('display.max_colwidth', None)"
      ],
      "metadata": {
        "id": "uNZ87z6pfXod"
      },
      "execution_count": null,
      "outputs": []
    },
    {
      "cell_type": "code",
      "execution_count": null,
      "metadata": {
        "id": "OSq8bVAHqm3x"
      },
      "outputs": [],
      "source": [
        "df_train_raw = pd.read_csv('dataset/train_ekmann.csv')\n",
        "df_val_raw = pd.read_csv('dataset/val_ekmann.csv')\n",
        "df_test_raw = pd.read_csv('dataset/test_ekmann.csv')"
      ]
    },
    {
      "cell_type": "code",
      "source": [
        "df_train_raw.rename(columns = {\"Text\": \"text\", \"Emotion\": \"emotion\", \"Id\": \"id\"}, inplace=True)\n",
        "df_val_raw.rename(columns = {\"Text\": \"text\", \"Emotion\": \"emotion\", \"Id\": \"id\"}, inplace=True)\n",
        "df_test_raw.rename(columns = {\"Text\": \"text\", \"Emotion\": \"emotion\", \"Id\": \"id\"}, inplace=True)"
      ],
      "metadata": {
        "id": "iXI4CS07Qb67"
      },
      "execution_count": null,
      "outputs": []
    },
    {
      "cell_type": "markdown",
      "metadata": {
        "id": "wGaIsKTZwAyk"
      },
      "source": [
        "### Closer look at datasets\n",
        "\n",
        "There are three columns: text, emotion and id\n",
        "\n",
        "For example, by showing the training dataset there can be easily seen the source of texts. In fact, they are probably coming from social networks, e.g. Twitter or Reddit, mainly from comments/replies or tweets. \n",
        "\n",
        "Also, as said before, some preprocessing must be done to uniformly represent the text, which will be later described."
      ]
    },
    {
      "cell_type": "code",
      "execution_count": null,
      "metadata": {
        "colab": {
          "base_uri": "https://localhost:8080/"
        },
        "id": "qkeb4t-cs9OG",
        "outputId": "79492003-2369-446b-d749-bbba87c1ecb4"
      },
      "outputs": [
        {
          "output_type": "execute_result",
          "data": {
            "text/plain": [
              "                                                                                                               text  \\\n",
              "0                                                       My favourite food is anything I didn't have to cook myself.   \n",
              "1  Now if he does off himself, everyone will think hes having a laugh screwing with people instead of actually dead   \n",
              "2                                                                                    WHY THE FUCK IS BAYLESS ISOING   \n",
              "3                                                                                       To make her feel threatened   \n",
              "4                                                                                            Dirty Southern Wankers   \n",
              "\n",
              "   emotion       id  \n",
              "0  neutral  eebbqej  \n",
              "1  neutral  ed00q6i  \n",
              "2    anger  eezlygj  \n",
              "3     fear  ed7ypvh  \n",
              "4    anger  ed0bdzj  "
            ],
            "text/html": [
              "\n",
              "  <div id=\"df-a8cad630-ca8d-4971-8239-944cdbba951b\">\n",
              "    <div class=\"colab-df-container\">\n",
              "      <div>\n",
              "<style scoped>\n",
              "    .dataframe tbody tr th:only-of-type {\n",
              "        vertical-align: middle;\n",
              "    }\n",
              "\n",
              "    .dataframe tbody tr th {\n",
              "        vertical-align: top;\n",
              "    }\n",
              "\n",
              "    .dataframe thead th {\n",
              "        text-align: right;\n",
              "    }\n",
              "</style>\n",
              "<table border=\"1\" class=\"dataframe\">\n",
              "  <thead>\n",
              "    <tr style=\"text-align: right;\">\n",
              "      <th></th>\n",
              "      <th>text</th>\n",
              "      <th>emotion</th>\n",
              "      <th>id</th>\n",
              "    </tr>\n",
              "  </thead>\n",
              "  <tbody>\n",
              "    <tr>\n",
              "      <th>0</th>\n",
              "      <td>My favourite food is anything I didn't have to cook myself.</td>\n",
              "      <td>neutral</td>\n",
              "      <td>eebbqej</td>\n",
              "    </tr>\n",
              "    <tr>\n",
              "      <th>1</th>\n",
              "      <td>Now if he does off himself, everyone will think hes having a laugh screwing with people instead of actually dead</td>\n",
              "      <td>neutral</td>\n",
              "      <td>ed00q6i</td>\n",
              "    </tr>\n",
              "    <tr>\n",
              "      <th>2</th>\n",
              "      <td>WHY THE FUCK IS BAYLESS ISOING</td>\n",
              "      <td>anger</td>\n",
              "      <td>eezlygj</td>\n",
              "    </tr>\n",
              "    <tr>\n",
              "      <th>3</th>\n",
              "      <td>To make her feel threatened</td>\n",
              "      <td>fear</td>\n",
              "      <td>ed7ypvh</td>\n",
              "    </tr>\n",
              "    <tr>\n",
              "      <th>4</th>\n",
              "      <td>Dirty Southern Wankers</td>\n",
              "      <td>anger</td>\n",
              "      <td>ed0bdzj</td>\n",
              "    </tr>\n",
              "  </tbody>\n",
              "</table>\n",
              "</div>\n",
              "      <button class=\"colab-df-convert\" onclick=\"convertToInteractive('df-a8cad630-ca8d-4971-8239-944cdbba951b')\"\n",
              "              title=\"Convert this dataframe to an interactive table.\"\n",
              "              style=\"display:none;\">\n",
              "        \n",
              "  <svg xmlns=\"http://www.w3.org/2000/svg\" height=\"24px\"viewBox=\"0 0 24 24\"\n",
              "       width=\"24px\">\n",
              "    <path d=\"M0 0h24v24H0V0z\" fill=\"none\"/>\n",
              "    <path d=\"M18.56 5.44l.94 2.06.94-2.06 2.06-.94-2.06-.94-.94-2.06-.94 2.06-2.06.94zm-11 1L8.5 8.5l.94-2.06 2.06-.94-2.06-.94L8.5 2.5l-.94 2.06-2.06.94zm10 10l.94 2.06.94-2.06 2.06-.94-2.06-.94-.94-2.06-.94 2.06-2.06.94z\"/><path d=\"M17.41 7.96l-1.37-1.37c-.4-.4-.92-.59-1.43-.59-.52 0-1.04.2-1.43.59L10.3 9.45l-7.72 7.72c-.78.78-.78 2.05 0 2.83L4 21.41c.39.39.9.59 1.41.59.51 0 1.02-.2 1.41-.59l7.78-7.78 2.81-2.81c.8-.78.8-2.07 0-2.86zM5.41 20L4 18.59l7.72-7.72 1.47 1.35L5.41 20z\"/>\n",
              "  </svg>\n",
              "      </button>\n",
              "      \n",
              "  <style>\n",
              "    .colab-df-container {\n",
              "      display:flex;\n",
              "      flex-wrap:wrap;\n",
              "      gap: 12px;\n",
              "    }\n",
              "\n",
              "    .colab-df-convert {\n",
              "      background-color: #E8F0FE;\n",
              "      border: none;\n",
              "      border-radius: 50%;\n",
              "      cursor: pointer;\n",
              "      display: none;\n",
              "      fill: #1967D2;\n",
              "      height: 32px;\n",
              "      padding: 0 0 0 0;\n",
              "      width: 32px;\n",
              "    }\n",
              "\n",
              "    .colab-df-convert:hover {\n",
              "      background-color: #E2EBFA;\n",
              "      box-shadow: 0px 1px 2px rgba(60, 64, 67, 0.3), 0px 1px 3px 1px rgba(60, 64, 67, 0.15);\n",
              "      fill: #174EA6;\n",
              "    }\n",
              "\n",
              "    [theme=dark] .colab-df-convert {\n",
              "      background-color: #3B4455;\n",
              "      fill: #D2E3FC;\n",
              "    }\n",
              "\n",
              "    [theme=dark] .colab-df-convert:hover {\n",
              "      background-color: #434B5C;\n",
              "      box-shadow: 0px 1px 3px 1px rgba(0, 0, 0, 0.15);\n",
              "      filter: drop-shadow(0px 1px 2px rgba(0, 0, 0, 0.3));\n",
              "      fill: #FFFFFF;\n",
              "    }\n",
              "  </style>\n",
              "\n",
              "      <script>\n",
              "        const buttonEl =\n",
              "          document.querySelector('#df-a8cad630-ca8d-4971-8239-944cdbba951b button.colab-df-convert');\n",
              "        buttonEl.style.display =\n",
              "          google.colab.kernel.accessAllowed ? 'block' : 'none';\n",
              "\n",
              "        async function convertToInteractive(key) {\n",
              "          const element = document.querySelector('#df-a8cad630-ca8d-4971-8239-944cdbba951b');\n",
              "          const dataTable =\n",
              "            await google.colab.kernel.invokeFunction('convertToInteractive',\n",
              "                                                     [key], {});\n",
              "          if (!dataTable) return;\n",
              "\n",
              "          const docLinkHtml = 'Like what you see? Visit the ' +\n",
              "            '<a target=\"_blank\" href=https://colab.research.google.com/notebooks/data_table.ipynb>data table notebook</a>'\n",
              "            + ' to learn more about interactive tables.';\n",
              "          element.innerHTML = '';\n",
              "          dataTable['output_type'] = 'display_data';\n",
              "          await google.colab.output.renderOutput(dataTable, element);\n",
              "          const docLink = document.createElement('div');\n",
              "          docLink.innerHTML = docLinkHtml;\n",
              "          element.appendChild(docLink);\n",
              "        }\n",
              "      </script>\n",
              "    </div>\n",
              "  </div>\n",
              "  "
            ]
          },
          "metadata": {},
          "execution_count": 46
        }
      ],
      "source": [
        "df_train_raw.head()"
      ]
    },
    {
      "cell_type": "markdown",
      "metadata": {
        "id": "c1vGbv8fxgRc"
      },
      "source": [
        "A look at the distribution of the \"emotion\" class is therefore needed to better know percentages of each sentiment in the dataset.\n",
        "\n",
        "In fact, there can be seen that between datasets the distribution is very similar, but overall two main classes, \"joy\" and \"neutral\", are more distributed than others, especially with respect to \"disgust\" and \"fear\"."
      ]
    },
    {
      "cell_type": "code",
      "source": [
        "df_train_raw.emotion.value_counts().plot(kind=\"pie\", figsize=(7, 7), title=\"Training dataset emotion distribution\");"
      ],
      "metadata": {
        "colab": {
          "base_uri": "https://localhost:8080/"
        },
        "id": "DED_lPXAmIma",
        "outputId": "c0210ccc-9551-4f7f-a90e-478a08d4ec00"
      },
      "execution_count": null,
      "outputs": [
        {
          "output_type": "display_data",
          "data": {
            "text/plain": [
              "<Figure size 504x504 with 1 Axes>"
            ],
            "image/png": "[encoded data removed]"
          },
          "metadata": {}
        }
      ]
    },
    {
      "cell_type": "code",
      "execution_count": null,
      "metadata": {
        "colab": {
          "base_uri": "https://localhost:8080/"
        },
        "id": "KIfHbjlWxcM2",
        "outputId": "ea12293a-e02c-47a0-ecd8-6e802b498edd"
      },
      "outputs": [
        {
          "output_type": "stream",
          "name": "stdout",
          "text": [
            "--- Distribution of Emotion in the train set ---\n",
            "joy         0.373578\n",
            "neutral     0.302833\n",
            "surprise    0.123635\n",
            "anger       0.098894\n",
            "sadness     0.070445\n",
            "disgust     0.017692\n",
            "fear        0.012923\n",
            "Name: emotion, dtype: float64\n",
            "\n",
            "--- Distribution of Emotion in the validation set ---\n",
            "joy         0.382787\n",
            "neutral     0.301880\n",
            "surprise    0.115002\n",
            "anger       0.102285\n",
            "sadness     0.067084\n",
            "disgust     0.017324\n",
            "fear        0.013638\n",
            "Name: emotion, dtype: float64\n",
            "\n",
            "--- Distribution of Emotion in the test set ---\n",
            "joy         0.364474\n",
            "neutral     0.303667\n",
            "surprise    0.124747\n",
            "anger       0.105399\n",
            "sadness     0.065414\n",
            "disgust     0.021375\n",
            "fear        0.014925\n",
            "Name: emotion, dtype: float64\n"
          ]
        }
      ],
      "source": [
        "train_count = df_train_raw.emotion.value_counts(normalize=True)\n",
        "val_count = df_val_raw.emotion.value_counts(normalize=True)\n",
        "test_count = df_test_raw.emotion.value_counts(normalize=True)\n",
        "\n",
        "print(\"--- Distribution of Emotion in the train set ---\")\n",
        "print(train_count)\n",
        "\n",
        "print(\"\\n--- Distribution of Emotion in the validation set ---\")\n",
        "print(val_count)\n",
        "\n",
        "print(\"\\n--- Distribution of Emotion in the test set ---\")\n",
        "print(test_count)"
      ]
    },
    {
      "cell_type": "markdown",
      "metadata": {
        "id": "pLVj68WNbroz"
      },
      "source": [
        "### Categorize emotions\n",
        "\n",
        "Emotions are categorized from strings to integer labels, in order to be handled by the model and to compute the metric"
      ]
    },
    {
      "cell_type": "code",
      "execution_count": null,
      "metadata": {
        "id": "6prJ4PJFbt65"
      },
      "outputs": [],
      "source": [
        "id_labels = {'joy': 0, 'neutral': 1, 'surprise': 2, 'anger': 3, 'sadness': 4, 'disgust': 5, 'fear': 6}\n",
        "\n",
        "df_train_raw.emotion.replace(id_labels, inplace=True)\n",
        "df_val_raw.emotion.replace(id_labels, inplace=True)\n",
        "df_test_raw.emotion.replace(id_labels, inplace=True)"
      ]
    },
    {
      "cell_type": "markdown",
      "metadata": {
        "id": "_A_fUtfewLbt"
      },
      "source": [
        "## Preprocessing\n",
        "\n",
        "The preprocessing pipeline is ofter necessary when handling texts, but before doing so, it is important to notice which things occured in the dataset and the way them could be processed, especially for not losing the meaning of texts with respect to the assigned emotion. \n",
        "\n",
        "In fact similar senteces can have opposite emotions for example by only changing punctuations.\n",
        "\n",
        "From this observations, of course a tradeoff must be found to better generalize the dataset for the model but at the same time keeping the semantic almost the same. "
      ]
    },
    {
      "cell_type": "markdown",
      "source": [
        "Firstly, a better loook at some texts to see why some choices were made."
      ],
      "metadata": {
        "id": "u3xYsGByt23E"
      }
    },
    {
      "cell_type": "code",
      "source": [
        "print(f\"Example of an uppercase message: {df_train_raw.iloc[62].text}\\n\")\n",
        "print(f\"Example of a message with emojis: {df_train_raw.iloc[425].text}\\n\")\n",
        "print(f\"Example of an elongated message: {df_train_raw.iloc[40211].text}\\n\")\n",
        "print(f\"Example of a message with a contracted form: {df_train_raw.iloc[992].text}\")"
      ],
      "metadata": {
        "colab": {
          "base_uri": "https://localhost:8080/"
        },
        "id": "1XlL-3dat6it",
        "outputId": "494d2d59-bfa5-423c-e01a-8fc69dbace76"
      },
      "execution_count": null,
      "outputs": [
        {
          "output_type": "stream",
          "name": "stdout",
          "text": [
            "Example of an uppercase message: WHAT ARE YOU DOIN [NAME]?\n",
            "\n",
            "Example of a message with emojis: I appreciate this post, so it’s appropriate in my eyes 😀\n",
            "\n",
            "Example of an elongated message: Somewhere in Ohiooooooooo*\n",
            "\n",
            "Example of a message with a contracted form: Don't worry about it.\n"
          ]
        }
      ]
    },
    {
      "cell_type": "markdown",
      "source": [
        "It can be seen that some texts falling in one of the previous examples must be processed somehow.\n",
        "\n",
        "For example, contracted words must be splitten and considered differently, in this way the model can better capture similar sentences.\n",
        "\n",
        "Another example are elongated words which, even though they are written to better capture a precise emotion, I've decided to remove the \"longer\" part and keep them in \"normal form\", for a better tokenization, which will be discussed in the next section."
      ],
      "metadata": {
        "id": "9EYpo63LCRQ5"
      }
    },
    {
      "cell_type": "code",
      "source": [
        "# the \"id\" column is not relevant for the task\n",
        "def drop_irrelevant_column(df_pre, cols=[\"id\"]):\n",
        "    return df_pre.drop(cols, axis=1)\n",
        "\n",
        "# lowerize the text column of datasets\n",
        "def lowerize(df_pre):\n",
        "    df_pre.text = df_pre.text.str.lower()\n",
        "    return df_pre\n",
        "\n",
        "def remove_punctuations(df_pre):\n",
        "    # df_pre.text = df_pre.text.replace('|'.join([re.escape(c) for c in list(\"!#$%&'()*+,-./:;<=>?@\\^_`{|}~\")]), \n",
        "    #                                   \"\", \n",
        "    #                                   regex=True)\n",
        "    df_pre.text = df_pre.text.replace('|'.join([re.escape(c) for c in list(\"#$%&*/:\\^_{|}~\")]), \n",
        "                                      \"\", \n",
        "                                      regex=True)\n",
        "    return df_pre\n",
        "\n",
        "def convert_emojis(df_pre):\n",
        "    df_pre.text = df_pre.text.apply(lambda x: emoji.demojize(x))\n",
        "    return df_pre\n",
        "\n",
        "# removed contractions\n",
        "def split_contractions(df_pre):\n",
        "    df_pre.text = df_pre.text.apply(contractions.fix)\n",
        "    return df_pre\n"
      ],
      "metadata": {
        "id": "gXRHG4HKw79u"
      },
      "execution_count": null,
      "outputs": []
    },
    {
      "cell_type": "markdown",
      "source": [
        "The Ekphrasis preprocessor is a widely used tokenizer for NLP tasks, especially for the ones considering social networks messages as input of their model ([1](https://aclanthology.org/2020.smm4h-1.31/)).\n",
        "\n",
        "For this reason, I've decided to implement it and choose only some types of the possible options the library can handle, mainly to focus on some important key aspects, which are:\n",
        "\n",
        "- Numerical quantities, such as money, time, date, number and phone: they give little insights on the emotion related to the message and it's better to keep them generalized, in this way they are replaced by a special token, like \"\\<number\\>\".\n",
        "- Elongated, repeated, emphasis and censored words are transformed in their \"normal form\", that is the one with higher probability among the candidate words of a Twitter corpus.\n",
        "- A social tokenizer is used to better capture emojis and other expressions like dates, times and more based on social behaviour.\n",
        "- A corrector for mispelled words"
      ],
      "metadata": {
        "id": "vpTLW3y4uEy7"
      }
    },
    {
      "cell_type": "code",
      "source": [
        "text_processor = TextPreProcessor(\n",
        "    normalize= ['money', 'user', 'time', 'date', 'number', 'phone'],\n",
        "    annotate={\"elongated\", \"repeated\", 'emphasis', 'censored'},\n",
        "    fix_html=True,\n",
        "    tokenizer=SocialTokenizer(lowercase=True).tokenize,\n",
        "    segmenter=\"twitter\", \n",
        "    corrector=\"twitter\", \n",
        "    unpack_contractions=False,\n",
        "    spell_correct_elong=True,\n",
        "    spell_correction=True,\n",
        "    fix_text=True,    \n",
        "    dicts=[emoticons]\n",
        ")"
      ],
      "metadata": {
        "colab": {
          "base_uri": "https://localhost:8080/"
        },
        "id": "mYzU8wY6z0UL",
        "outputId": "e6d3e73c-80a0-4f48-9d6d-6c76e5101573"
      },
      "execution_count": null,
      "outputs": [
        {
          "output_type": "stream",
          "name": "stdout",
          "text": [
            "Reading twitter - 1grams ...\n"
          ]
        }
      ]
    },
    {
      "cell_type": "markdown",
      "source": [
        "### Preprocessing pipeline\n",
        "\n",
        "In this step, datasets are preprocessed and transformed by applying all the things described so far."
      ],
      "metadata": {
        "id": "027rYoBZAOjM"
      }
    },
    {
      "cell_type": "code",
      "source": [
        "def df_preprocessing(df_pre):\n",
        "    df_pre = drop_irrelevant_column(df_pre)\n",
        "    df_pre = lowerize(df_pre)\n",
        "    df_pre = convert_emojis(df_pre)\n",
        "    df_pre = split_contractions(df_pre)\n",
        "    \n",
        "    df_pre.text = df_pre.text.apply(lambda x: ' '.join(text_processor.pre_process_doc(x)).strip())\n",
        "\n",
        "    for patt in [r\"<elongated>\", r\"<repeated>\"]:\n",
        "        df_pre.text = df_pre.text.replace(patt, '', regex=True)\n",
        "\n",
        "    df_pre = remove_punctuations(df_pre)\n",
        "\n",
        "    return df_pre"
      ],
      "metadata": {
        "id": "bCBC-mxK-5JJ"
      },
      "execution_count": null,
      "outputs": []
    },
    {
      "cell_type": "code",
      "source": [
        "df_train = df_preprocessing(df_train_raw)\n",
        "df_val = df_preprocessing(df_val_raw)\n",
        "df_test = df_preprocessing(df_test_raw)"
      ],
      "metadata": {
        "id": "d3o0owvwBB3M"
      },
      "execution_count": null,
      "outputs": []
    },
    {
      "cell_type": "code",
      "source": [
        "df_train.text.replace(\"\\[ name \\]\", \"[name]\", regex=True, inplace=True)\n",
        "df_val.text.replace(\"\\[ name \\]\", \"[name]\", regex=True, inplace=True)\n",
        "df_test.text.replace(\"\\[ name \\]\", \"[name]\", regex=True, inplace=True)"
      ],
      "metadata": {
        "id": "Qsha1fHmRCUh"
      },
      "execution_count": null,
      "outputs": []
    },
    {
      "cell_type": "code",
      "source": [
        "print(f\"Example of an uppercase message: {df_train.iloc[62].text}\\n\")\n",
        "print(f\"Example of a message with emojis: {df_train.iloc[425].text}\\n\")\n",
        "print(f\"Example of an elongated message: {df_train.iloc[40211].text}\\n\")\n",
        "print(f\"Example of a message with a contracted form: {df_train.iloc[992].text}\")"
      ],
      "metadata": {
        "colab": {
          "base_uri": "https://localhost:8080/"
        },
        "id": "ZgLJ0tf5Kcde",
        "outputId": "ab2368ac-b845-4823-dfb0-a3ad889bbdec"
      },
      "execution_count": null,
      "outputs": [
        {
          "output_type": "stream",
          "name": "stdout",
          "text": [
            "Example of an uppercase message: what are you doin [name] ?\n",
            "\n",
            "Example of a message with emojis: i appreciate this post , so it is appropriate in my eyes  grinningface \n",
            "\n",
            "Example of an elongated message: somewhere in ohio  \n",
            "\n",
            "Example of a message with a contracted form: do not worry about it .\n"
          ]
        }
      ]
    },
    {
      "cell_type": "markdown",
      "metadata": {
        "id": "UOdML2wrzPNp"
      },
      "source": [
        "### Duplicates\n",
        "\n",
        "Finally, I've noticed some duplicates on datasets (entries with same text and same emotion), therefore they are removed.\n",
        "\n",
        "In test and validation datasets there aren't duplicated entries with different emotions, hence they can be safely removed.\n",
        "\n",
        "On the contrary, the train set has many duplicates with different emotions, so I've decided to remove only the ones with same label and same text"
      ]
    },
    {
      "cell_type": "code",
      "execution_count": null,
      "metadata": {
        "id": "St4sxsbA1H-z"
      },
      "outputs": [],
      "source": [
        "df_val.drop_duplicates(subset=[\"text\", \"emotion\"], keep=\"first\", ignore_index=True, inplace=True)\n",
        "df_test.drop_duplicates(subset=[\"text\", \"emotion\"], keep=\"first\", ignore_index=True, inplace=True)"
      ]
    },
    {
      "cell_type": "code",
      "execution_count": null,
      "metadata": {
        "id": "LI9sp7xm1jYU"
      },
      "outputs": [],
      "source": [
        "df_train.drop_duplicates(subset=[\"text\", \"emotion\"], keep=False, ignore_index=True, inplace=True)"
      ]
    },
    {
      "cell_type": "markdown",
      "metadata": {
        "id": "OH5MFA5QQHre"
      },
      "source": [
        "## Tokenization\n",
        "\n",
        "The tokenization consists in transforming the input into units to be vectorized as tokens. This means that from words/subwords are created tokens which are mapped to integers and then stored in an array. \n",
        "\n",
        "The array has two special indexes: 0, 1, which are respectively used for padding and OOV/[UNK] tokens, the latter is assigned when a token of a text is not present in the array of tokens generated. In fact, a maximum number of tokens is defined, as will be better observed."
      ]
    },
    {
      "cell_type": "markdown",
      "metadata": {
        "id": "72I3_3flS4VN"
      },
      "source": [
        "### Length of words in each dataset\n",
        "\n",
        "A look at the maximum number of words is necessary, because in this way I can better define the fixed size of encoded tokens.\n",
        "\n",
        "The median in this case is 15 for all datasets, in addition by looking at the box plot of the training set, since it has the longest word, the distribution of the length is mostly concentrated in short words, therefore I've decided to go with a length of 64."
      ]
    },
    {
      "cell_type": "code",
      "execution_count": null,
      "metadata": {
        "id": "QmC_h89sXOQM",
        "colab": {
          "base_uri": "https://localhost:8080/"
        },
        "outputId": "82ce804e-1cfe-4060-efcc-f3b96a43ee08"
      },
      "outputs": [
        {
          "output_type": "stream",
          "name": "stdout",
          "text": [
            "Max words in a train sample: 15.0\n",
            "Max words in a val sample: 15.0\n",
            "Max words in a test sample: 15.0\n"
          ]
        }
      ],
      "source": [
        "train_count = df_train.text.apply(lambda x: len(x.split(\" \")))\n",
        "val_count = df_val.text.apply(lambda x: len(x.split(\" \")))\n",
        "test_count = df_test.text.apply(lambda x: len(x.split(\" \")))\n",
        "\n",
        "print(f\"Max words in a train sample: {train_count.median()}\")\n",
        "print(f\"Max words in a val sample: {val_count.median()}\")\n",
        "print(f\"Max words in a test sample: {test_count.median()}\")"
      ]
    },
    {
      "cell_type": "code",
      "source": [
        "train_count.plot.box(figsize=(4, 8))"
      ],
      "metadata": {
        "colab": {
          "base_uri": "https://localhost:8080/"
        },
        "id": "8Sny3MzHVeoI",
        "outputId": "c1e7f050-3b44-4bfb-9214-7df49cae0833"
      },
      "execution_count": null,
      "outputs": [
        {
          "output_type": "execute_result",
          "data": {
            "text/plain": [
              "<matplotlib.axes._subplots.AxesSubplot at 0x7f1e7954fa10>"
            ]
          },
          "metadata": {},
          "execution_count": 79
        },
        {
          "output_type": "display_data",
          "data": {
            "text/plain": [
              "<Figure size 288x576 with 1 Axes>"
            ],
            "image/png": "[encoded data removed]"
          },
          "metadata": {
            "needs_background": "light"
          }
        }
      ]
    },
    {
      "cell_type": "markdown",
      "source": [
        "### Vectorize layer\n",
        "\n",
        "The TextVectorization layer of Keras heps in preparing the text data to be integer sequences for the model.\n",
        "\n",
        "Firsty, it has 3 hyperparameters to be tuned appropriately: the vocabulary size, the max length and the embedding dimension.\n",
        "\n",
        "#### VOCAB_SIZE\n",
        "\n",
        "The vocabulary size defines the maximum number of tokens in the array, and, as can be noticed in the literature [1](https://www.hindawi.com/journals/mpe/2021/5536560/), [2](https://www.researchgate.net/profile/Andrei-Paraschiv/publication/337007402_UPB_at_GermEval-2019_Task_2_BERT-Based_Offensive_Language_Classification_of_German_Tweets/links/5dbff8a592851c818028a983/UPB-at-GermEval-2019-Task-2-BERT-Based-Offensive-Language-Classification-of-German-Tweets.pdf]), a good one is between 15000 and 20000 tokens. \n",
        "\n",
        "While tuning the hyperparameters I've found that 20K is the most appropriate, especially considering the embedding layer which will be seen in the next section.\n",
        "\n",
        "#### MAX LENGTH\n",
        "The maximum length, as said before, is 64.\n",
        "\n",
        "#### EMBED_DIM\n",
        "\n",
        "Finally, using a pretrained embedding layer, such GloVe in this case, I was costrained by four embedding dimensions: 50, 100, 200, 300. I decided to test them all, but the latest one (300) was the most succesful in getting higher metrics, therefore I decided to go with that.\n",
        "\n",
        "It's one of the most frequent in the literature and in this case many words of the training datasets (~80%) were already mapped into the embedding space, hence this proves the better results."
      ],
      "metadata": {
        "id": "tCmBnkKhPNZq"
      }
    },
    {
      "cell_type": "code",
      "source": [
        "@dataclass\n",
        "class Vectorizing:\n",
        "    VOCAB_SIZE = 20000\n",
        "    MAX_LEN = 64\n",
        "    EMBED_DIM = 300\n",
        "\n",
        "conf_m1 = Vectorizing()"
      ],
      "metadata": {
        "id": "jcYuVQUDSHIQ"
      },
      "execution_count": null,
      "outputs": []
    },
    {
      "cell_type": "code",
      "source": [
        "def get_vectorize_layer(texts, vocab_size, max_seq):\n",
        "    vectorize_layer = TextVectorization(\n",
        "        max_tokens=vocab_size,\n",
        "        output_mode=\"int\",\n",
        "        standardize=None,\n",
        "        output_sequence_length=max_seq,\n",
        "    )\n",
        "    vectorize_layer.adapt(texts)\n",
        "    \n",
        "    return vectorize_layer"
      ],
      "metadata": {
        "id": "QT7QlTmSSMJN"
      },
      "execution_count": null,
      "outputs": []
    },
    {
      "cell_type": "markdown",
      "source": [
        "### Encoding of the input\n",
        "\n",
        "At this point, datasets are transformed into tensors, by using the vectorization layer as a \"vocabulary\" which performes associations between token strings and integers."
      ],
      "metadata": {
        "id": "DfUuXg-xQHKv"
      }
    },
    {
      "cell_type": "code",
      "source": [
        "def encode(texts, layer):\n",
        "    encoded_texts = layer(texts)\n",
        "    return encoded_texts.numpy()\n",
        "\n",
        "def get_vectorized_dataset(text, emotion, layer):\n",
        "    return encode(text, layer), to_categorical(emotion)\n",
        "\n",
        "def get_tensor_dataset(x, y, buffer=1000, batch=32):\n",
        "    # return (\n",
        "    #     tf.data.Dataset.from_tensor_slices((x, y))\n",
        "    #     .shuffle(buffer, seed=conf_m1.SEED)\n",
        "    #     .batch(batch))\n",
        "    return (tf.data.Dataset.from_tensor_slices((x, y)))"
      ],
      "metadata": {
        "id": "XcAOYzsrSkSA"
      },
      "execution_count": null,
      "outputs": []
    },
    {
      "cell_type": "code",
      "source": [
        "vectorize_layer = get_vectorize_layer(\n",
        "    df_train.text.values.tolist(),\n",
        "    conf_m1.VOCAB_SIZE,\n",
        "    conf_m1.MAX_LEN\n",
        ")"
      ],
      "metadata": {
        "id": "nJv2rPUcUYTq"
      },
      "execution_count": null,
      "outputs": []
    },
    {
      "cell_type": "code",
      "source": [
        "x_train, y_train = get_vectorized_dataset(df_train.text.values, \n",
        "                                            df_train.emotion.values,\n",
        "                                            vectorize_layer)\n",
        "\n",
        "x_val, y_val = get_vectorized_dataset(df_val.text.values, \n",
        "                                        df_val.emotion.values,\n",
        "                                        vectorize_layer)\n",
        "\n",
        "x_test, y_test = get_vectorized_dataset(df_test.text.values, \n",
        "                                        df_test.emotion.values,\n",
        "                                        vectorize_layer)\n",
        "\n",
        "train_classifier_ds = get_tensor_dataset(x_train, y_train)\n",
        "val_classifier_ds = get_tensor_dataset(x_val, y_val)\n",
        "\n",
        "xtest_raw_ds = (tf.data.Dataset.from_tensor_slices(x_test).batch(256))"
      ],
      "metadata": {
        "id": "2Ki_FibmU1Es"
      },
      "execution_count": null,
      "outputs": []
    },
    {
      "cell_type": "markdown",
      "metadata": {
        "id": "5W-dsR-3QGOX"
      },
      "source": [
        "## Embedding layer\n",
        "\n",
        "I avoided the one-hot-encoding essentially for two reasons: it has a sparse representation, hence it requires too much memory, and also it cannot capture semantic relationship between tokens. \n",
        "\n",
        "In general, many words have a similar meaning (synonyms), and in order to capture this behaviour in NNs, a layer embedding is necessary to determine a geometric space and transformation from one word to another, in order to exploit better their connections and allowing a better generalization of the model.\n",
        "\n",
        "Even though the embedding layer can be trained, I reached better performance, as expected, by using a pretrained layer: **GloVe**.\n",
        "\n",
        "It is a pretrained word embeddings layer of 40,000 tokens with an embedding dimension of 300, so the geometrical space has SOTA performance and it is widely used in the literature.\n",
        "\n",
        "In this way I also achieve faster training and overall better performance."
      ]
    },
    {
      "cell_type": "markdown",
      "source": [
        "### Download"
      ],
      "metadata": {
        "id": "aNLqQ5k_Sfih"
      }
    },
    {
      "cell_type": "code",
      "execution_count": null,
      "metadata": {
        "colab": {
          "base_uri": "https://localhost:8080/"
        },
        "id": "oUF7us8nPx2Z",
        "outputId": "5811c269-becc-4214-ca9e-40fb6b2e4488"
      },
      "outputs": [
        {
          "output_type": "stream",
          "name": "stdout",
          "text": [
            "--2022-06-30 16:56:50--  https://huggingface.co/stanfordnlp/glove/resolve/main/glove.6B.zip\n",
            "Resolving huggingface.co (huggingface.co)... 52.71.31.33, 34.192.62.10, 2600:1f18:147f:e800:e3ed:f4c9:35c2:ea6b, ...\n",
            "Connecting to huggingface.co (huggingface.co)|52.71.31.33|:443... connected.\n",
            "HTTP request sent, awaiting response... 302 Found\n",
            "Location: https://cdn-lfs.huggingface.co/stanfordnlp/glove/6471382cdd837544bf3ac72497a38715e845897d265b2b424b4761832009c837?response-content-disposition=attachment%3B%20filename%3D%22glove.6B.zip%22 [following]\n",
            "--2022-06-30 16:56:50--  https://cdn-lfs.huggingface.co/stanfordnlp/glove/6471382cdd837544bf3ac72497a38715e845897d265b2b424b4761832009c837?response-content-disposition=attachment%3B%20filename%3D%22glove.6B.zip%22\n",
            "Resolving cdn-lfs.huggingface.co (cdn-lfs.huggingface.co)... 52.85.151.94, 52.85.151.109, 52.85.151.45, ...\n",
            "Connecting to cdn-lfs.huggingface.co (cdn-lfs.huggingface.co)|52.85.151.94|:443... connected.\n",
            "HTTP request sent, awaiting response... 200 OK\n",
            "Length: 862182753 (822M) [application/zip]\n",
            "Saving to: ‘glove.6B.zip’\n",
            "\n",
            "glove.6B.zip        100%[===================>] 822.24M   103MB/s    in 8.6s    \n",
            "\n",
            "2022-06-30 16:56:58 (95.4 MB/s) - ‘glove.6B.zip’ saved [862182753/862182753]\n",
            "\n"
          ]
        }
      ],
      "source": [
        "!wget https://huggingface.co/stanfordnlp/glove/resolve/main/glove.6B.zip\n",
        "!unzip -q glove.6B.zip"
      ]
    },
    {
      "cell_type": "markdown",
      "source": [
        "### Configure pretrained embedding"
      ],
      "metadata": {
        "id": "SibMuTSPUouw"
      }
    },
    {
      "cell_type": "code",
      "execution_count": null,
      "metadata": {
        "colab": {
          "base_uri": "https://localhost:8080/"
        },
        "id": "EB1G9pyyPvw6",
        "outputId": "adda9813-7200-465a-b98a-e0682ddee216"
      },
      "outputs": [
        {
          "output_type": "stream",
          "name": "stdout",
          "text": [
            "Found 400001 word vectors.\n"
          ]
        }
      ],
      "source": [
        "path_to_glove_file = f\"glove.6B.{conf_m1.EMBED_DIM}d.txt\"\n",
        "embeddings_index = {}\n",
        "with open(path_to_glove_file) as f:\n",
        "    for line in f:\n",
        "        word, coefs = line.split(maxsplit=1)\n",
        "        coefs = np.fromstring(coefs, \"f\", sep=\" \")\n",
        "        embeddings_index[word] = coefs\n",
        "print(f\"Found {len(embeddings_index)} word vectors.\")"
      ]
    },
    {
      "cell_type": "code",
      "execution_count": null,
      "metadata": {
        "colab": {
          "base_uri": "https://localhost:8080/"
        },
        "id": "aGt_-3iXQVwm",
        "outputId": "561a4acb-8537-4d52-e894-fdae7801df6b"
      },
      "outputs": [
        {
          "output_type": "stream",
          "name": "stdout",
          "text": [
            "Converted 17826 words (2174 misses)\n"
          ]
        }
      ],
      "source": [
        "voc = vectorize_layer.get_vocabulary()\n",
        "voc_size = vectorize_layer.vocabulary_size()\n",
        "word_index = dict(zip(voc, range(voc_size)))\n",
        "\n",
        "hits = 0\n",
        "misses = 0\n",
        "\n",
        "embedding_matrix = np.zeros((conf_m1.VOCAB_SIZE, conf_m1.EMBED_DIM))\n",
        "for word, i in word_index.items():\n",
        "    embedding_vector = embeddings_index.get(word)\n",
        "    if embedding_vector is not None:\n",
        "        embedding_matrix[i] = embedding_vector\n",
        "        hits += 1\n",
        "    else:\n",
        "        misses += 1\n",
        "print(f\"Converted {hits} words ({misses} misses)\")"
      ]
    },
    {
      "cell_type": "markdown",
      "source": [
        "## Model\n",
        "\n",
        "There are many approaches used in the literature [1](https://paperswithcode.com/sota/sentiment-analysis-on-yelp-binary) with state of the art performance, which are:\n",
        "\n",
        "- Convolutional Neural Networks (CNNs)\n",
        "- Recurrent Neural Networks (RNNs)\n",
        "- Transformer architectures\n",
        "\n",
        "Until 2017, RNNs were the state of the art for sentiment tasks and they generally offered better performance with respect to CNNs. \n",
        "\n",
        "However, in recent years, complex networks evolved adopting the Transformer architecture, consisting of Transformer encoder and decoder containing self-attention mechanism, such as the Multihead attention layer. The key aspect is the ability to make features context-aware, basically by giving context to words in a sentence, which an Embedding layer could not do properly. \n",
        "\n",
        "Having said that, given the enourmous number of parameters required by this type of model, mainly because pretrained models like BERT (or variants) are used, and also because the dataset doesn't contain long words and it is not so big [2](https://developers.google.com/machine-learning/guides/text-classification/), for this classification task I prefer using a lightweight model: **BiLSTM**.\n",
        "\n",
        "---\n",
        "\n",
        "### My network: BiLSTM\n",
        "\n",
        "A RNN layer, such as LSTM that I used in this project, processes the sequence more times, keeping informations of the states visited so far. This characteristic, in my opinion, is very suitable for this task, because it permits to better capture features of each sentence. \n",
        "\n",
        "In addition, I decided to go a little forward and implement the RNN as a Bidirectional layer of LSTMs in order to scan the input in both direction: in natural order and reversed. [3](https://dl.acm.org/doi/abs/10.1145/3194206.3194240)\n",
        "\n",
        "I have also noticed that only one layer was not sufficient, I decided to stack multiple layers mainly to increase the representational power of features captured by the network.\n",
        "\n",
        "#### Avoid overfitting\n",
        "\n",
        "Given the nature of this dataset, it is prone to overfit very easily, in less than 5 epochs. For this reason, some regularisations are necessary to restrain overfitting and resulting in a better model.\n",
        "\n",
        "Firsly, I used a SpatialDropout after the embedding layer, with a rate of 0.3, which results in *increased* performance [4](https://www.mdpi.com/2076-3417/12/7/3641). \n",
        "\n",
        "Also, three Bidirectional LSTM layers suffer from overfitting, but I decided to not apply dropout during the iteration of the LSTM layer, but just after that [5](https://arxiv.org/abs/1409.2329), applying a Dropout layer with rate 0.3 to the output of each BiLSTM layer.\n",
        "\n",
        "FInally, weight decay was applied to the recurrent regularizer of each LSTM layer, through a L2 regularization penalty with a factor of 0.02.\n",
        "\n",
        "The main callback used was *ReduceLROnPlateau* with a factor of 0.3 after just one epoch of worse validation loss. Since the dataset tends to overfit really fast I decided to choose a small patience parameter, with the learning rate reduce by a *not so irrelevant* factor, in order to reach a better convergence.\n",
        "\n",
        "The initial learning rate was set to 0.005 with a batch size of 80. I've tried other different learning rates, with they have a slower convergence or tend to overfit really fast.\n",
        "\n",
        "#### Network architecture\n",
        "\n",
        "The network has an Embedding layer which takes vectorized sequences. Then, three Bidirectional LSTM layers are stacked and finally a Dense layer with a softmax activation function is used. \n",
        "\n",
        "The output is an array of class probabilities.\n",
        "\n",
        "The loss function is *categorical crossentropy* and the optimizer is *Adam*."
      ],
      "metadata": {
        "id": "2C3N4NeN-x0K"
      }
    },
    {
      "cell_type": "code",
      "source": [
        "@dataclass\n",
        "class Parameters:\n",
        "    BATCH = 80\n",
        "    LR = 5e-3\n",
        "    L2 = 0.02\n",
        "    SD_RATE = 0.3\n",
        "    D_RATE = 0.3\n",
        "    LSTM_UNITS = 128\n",
        "    LSTM_LAYERS = 3\n",
        "\n",
        "m1_para = Parameters()"
      ],
      "metadata": {
        "id": "V_hyVWvOcUk9"
      },
      "execution_count": null,
      "outputs": []
    },
    {
      "cell_type": "code",
      "execution_count": null,
      "metadata": {
        "colab": {
          "base_uri": "https://localhost:8080/"
        },
        "outputId": "117880bc-2fc0-4e80-e106-27c4304b8e82",
        "id": "k325U7_1cUk9"
      },
      "outputs": [
        {
          "output_type": "stream",
          "name": "stdout",
          "text": [
            "Model: \"model_4\"\n",
            "_________________________________________________________________\n",
            " Layer (type)                Output Shape              Param #   \n",
            "=================================================================\n",
            " input_5 (InputLayer)        [(None, 64)]              0         \n",
            "                                                                 \n",
            " embedding_4 (Embedding)     (None, 64, 300)           6000000   \n",
            "                                                                 \n",
            " spatial_dropout1d_4 (Spatia  (None, 64, 300)          0         \n",
            " lDropout1D)                                                     \n",
            "                                                                 \n",
            " bidirectional_12 (Bidirecti  (None, 64, 256)          439296    \n",
            " onal)                                                           \n",
            "                                                                 \n",
            " dropout_12 (Dropout)        (None, 64, 256)           0         \n",
            "                                                                 \n",
            " bidirectional_13 (Bidirecti  (None, 64, 256)          394240    \n",
            " onal)                                                           \n",
            "                                                                 \n",
            " dropout_13 (Dropout)        (None, 64, 256)           0         \n",
            "                                                                 \n",
            " bidirectional_14 (Bidirecti  (None, 256)              394240    \n",
            " onal)                                                           \n",
            "                                                                 \n",
            " dropout_14 (Dropout)        (None, 256)               0         \n",
            "                                                                 \n",
            " dense_4 (Dense)             (None, 7)                 1799      \n",
            "                                                                 \n",
            "=================================================================\n",
            "Total params: 7,229,575\n",
            "Trainable params: 1,229,575\n",
            "Non-trainable params: 6,000,000\n",
            "_________________________________________________________________\n",
            "Epoch 1/6\n",
            "539/539 [==============================] - 48s 53ms/step - loss: 1.3773 - f1_score: 0.3895 - val_loss: 1.0345 - val_f1_score: 0.5109 - lr: 0.0050\n",
            "Epoch 2/6\n",
            "539/539 [==============================] - 23s 42ms/step - loss: 1.0244 - f1_score: 0.5232 - val_loss: 0.9929 - val_f1_score: 0.5553 - lr: 0.0050\n",
            "Epoch 3/6\n",
            "539/539 [==============================] - 25s 46ms/step - loss: 0.9790 - f1_score: 0.5598 - val_loss: 1.0198 - val_f1_score: 0.5830 - lr: 0.0050\n",
            "Epoch 4/6\n",
            "539/539 [==============================] - 22s 40ms/step - loss: 0.8850 - f1_score: 0.5976 - val_loss: 0.9221 - val_f1_score: 0.5961 - lr: 0.0015\n",
            "Epoch 5/6\n",
            "539/539 [==============================] - 21s 39ms/step - loss: 0.8593 - f1_score: 0.6159 - val_loss: 0.9237 - val_f1_score: 0.5901 - lr: 0.0015\n",
            "Epoch 6/6\n",
            "539/539 [==============================] - 22s 40ms/step - loss: 0.8119 - f1_score: 0.6300 - val_loss: 0.9078 - val_f1_score: 0.5993 - lr: 4.5000e-04\n"
          ]
        }
      ],
      "source": [
        "inputs = Input((conf_m1.MAX_LEN,), dtype=tf.int64)\n",
        "embedded = Embedding(conf_m1.VOCAB_SIZE, \n",
        "                    conf_m1.EMBED_DIM, \n",
        "                    embeddings_initializer=Constant(embedding_matrix),\n",
        "                    trainable=False,\n",
        "                    mask_zero=True)(inputs)\n",
        "\n",
        "x = SpatialDropout1D(m1_para.SD_RATE)(embedded)\n",
        "\n",
        "for i in range(m1_para.LSTM_LAYERS):\n",
        "    ret_seq = i != m1_para.LSTM_LAYERS - 1\n",
        "\n",
        "    x = Bidirectional(LSTM(m1_para.LSTM_UNITS, return_sequences=ret_seq, recurrent_regularizer=l2(m1_para.L2)))(x)\n",
        "    x = Dropout(m1_para.D_RATE)(x)\n",
        "\n",
        "outputs = Dense(7, activation=\"softmax\")(x)\n",
        "model = Model(inputs, outputs)\n",
        "\n",
        "opt = Adam(learning_rate=m1_para.LR)\n",
        "model.compile(\n",
        "    optimizer=opt, \n",
        "    loss=\"categorical_crossentropy\", \n",
        "    metrics=[tfa.metrics.F1Score(num_classes=7, average='macro')])\n",
        "    \n",
        "model.summary()\n",
        "\n",
        "early_stopping = EarlyStopping(monitor=\"val_loss\", patience=2)\n",
        "reduce_lr = ReduceLROnPlateau(monitor=\"val_loss\", patience=1, factor=0.3)\n",
        "\n",
        "history = model.fit(train_classifier_ds.shuffle(1000, seed=42).batch(m1_para.BATCH), \n",
        "          validation_data=val_classifier_ds.shuffle(1000, seed=42).batch(m1_para.BATCH), \n",
        "          epochs=6,\n",
        "          callbacks=[reduce_lr, early_stopping])"
      ]
    },
    {
      "cell_type": "markdown",
      "source": [
        "### Evaluate the model\n",
        "\n",
        "The reached F1 macro average score reached is **0.6070**"
      ],
      "metadata": {
        "id": "XfWhA9uscUk-"
      }
    },
    {
      "cell_type": "code",
      "source": [
        "xtest_raw_ds = (tf.data.Dataset.from_tensor_slices(x_test).batch(256))\n",
        "\n",
        "print(classification_report(np.argmax(y_test, axis=1), np.argmax(model.predict(xtest_raw_ds), axis=1), digits=4))"
      ],
      "metadata": {
        "colab": {
          "base_uri": "https://localhost:8080/"
        },
        "outputId": "bb04a5c5-bc04-43db-d8a7-8d4356441c0c",
        "id": "XW4JARI1cUk-"
      },
      "execution_count": null,
      "outputs": [
        {
          "output_type": "stream",
          "name": "stdout",
          "text": [
            "              precision    recall  f1-score   support\n",
            "\n",
            "           0     0.7870    0.7738    0.7804      1972\n",
            "           1     0.6118    0.6448    0.6278      1647\n",
            "           2     0.5759    0.5997    0.5876       677\n",
            "           3     0.5038    0.4650    0.4836       572\n",
            "           4     0.6012    0.5521    0.5756       355\n",
            "           5     0.5859    0.5000    0.5395       116\n",
            "           6     0.6322    0.6790    0.6548        81\n",
            "\n",
            "    accuracy                         0.6585      5420\n",
            "   macro avg     0.6140    0.6021    0.6070      5420\n",
            "weighted avg     0.6587    0.6585    0.6582      5420\n",
            "\n"
          ]
        }
      ]
    },
    {
      "cell_type": "markdown",
      "source": [
        "### Plot the loss and the F1 score\n",
        "\n",
        "The callback ReduceLROnPlateau helps in reducing the loss function even more and reach higher score. In this case it is applied to the forth epoch by reducing the learning rate from 0.005 to 0.0015."
      ],
      "metadata": {
        "id": "PxB-d-H0cUk_"
      }
    },
    {
      "cell_type": "code",
      "source": [
        "fig, axs = plt.subplots(2, figsize=(8, 10))\n",
        "\n",
        "x_len = np.arange(1, len(history.history['f1_score'])+ 1)\n",
        "\n",
        "axs[0].plot(x_len, history.history['loss'])\n",
        "axs[0].plot(x_len, history.history['val_loss'])\n",
        "axs[0].set_title('model loss')\n",
        "axs[0].set_ylabel('loss')\n",
        "axs[0].set_xlabel('epoch')\n",
        "axs[0].legend(['train', 'val'], loc='upper left')\n",
        "axs[0].set_xticks(x_len)\n",
        "\n",
        "axs[1].plot(x_len, history.history['f1_score'])\n",
        "axs[1].plot(x_len, history.history['val_f1_score'])\n",
        "axs[1].set_title('model f1 score macro avg')\n",
        "axs[1].set_ylabel('f1 macro avg')\n",
        "axs[1].set_xlabel('epoch')\n",
        "axs[1].legend(['train', 'val'], loc='upper left')\n",
        "axs[1].set_xticks(x_len)\n",
        "axs[1].set_yticks(np.arange(0.35, 0.65, step=0.02))\n",
        "\n",
        "fig.show()"
      ],
      "metadata": {
        "colab": {
          "base_uri": "https://localhost:8080/",
          "height": 621
        },
        "outputId": "4d85a751-721f-4883-d2d2-797e4d784da4",
        "id": "4Cor2MmFcUk_"
      },
      "execution_count": null,
      "outputs": [
        {
          "output_type": "display_data",
          "data": {
            "text/plain": [
              "<Figure size 576x720 with 2 Axes>"
            ],
            "image/png": "[encoded data removed]"
          },
          "metadata": {
            "needs_background": "light"
          }
        }
      ]
    },
    {
      "cell_type": "markdown",
      "source": [
        "### Save model"
      ],
      "metadata": {
        "id": "VjPXT-7tcUk_"
      }
    },
    {
      "cell_type": "code",
      "source": [
        "model_name = \"BiLSTM-6070\""
      ],
      "metadata": {
        "id": "u2TYWwvecUlA"
      },
      "execution_count": null,
      "outputs": []
    },
    {
      "cell_type": "code",
      "source": [
        "!mkdir '/content/drive/MyDrive/DLExam/BiLSTM-6070'\n",
        "!mkdir '/content/drive/MyDrive/DLExam/BiLSTM-6070/Weights'\n",
        "!mkdir '/content/drive/MyDrive/DLExam/BiLSTM-6070/Model'"
      ],
      "metadata": {
        "id": "1hRYoT3ncUlA"
      },
      "execution_count": null,
      "outputs": []
    },
    {
      "cell_type": "code",
      "source": [
        "model.save_weights(f'/content/drive/MyDrive/DLExam/{model_name}/Weights/best_model.h5')"
      ],
      "metadata": {
        "id": "YVp-PrlRcUlA"
      },
      "execution_count": null,
      "outputs": []
    },
    {
      "cell_type": "markdown",
      "source": [
        "# Conclusions\n",
        "\n",
        "Only one model has been developed, but its parameters have been tuned to avoid overfitting and reach higher metric values. \n",
        "\n",
        "To sum up, the F1 macro average reached on the test set is: **0.6070**.\n",
        "\n",
        "The dataset is not considered to be in the current folder, so some paths should be changed to try it."
      ],
      "metadata": {
        "id": "OrdGKmMWP4L6"
      }
    }
  ],
  "metadata": {
    "colab": {
      "collapsed_sections": [
        "XO1g-sXM67RE",
        "ZMJMJv39q2_A",
        "wGaIsKTZwAyk",
        "pLVj68WNbroz",
        "_A_fUtfewLbt",
        "027rYoBZAOjM",
        "OH5MFA5QQHre",
        "72I3_3flS4VN",
        "tCmBnkKhPNZq",
        "DfUuXg-xQHKv",
        "aNLqQ5k_Sfih",
        "SibMuTSPUouw"
      ],
      "provenance": []
    },
    "gpuClass": "standard",
    "kernelspec": {
      "display_name": "Python 3",
      "name": "python3"
    },
    "language_info": {
      "name": "python"
    },
    "accelerator": "GPU"
  },
  "nbformat": 4,
  "nbformat_minor": 0
}